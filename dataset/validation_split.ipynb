{
 "cells": [
  {
   "cell_type": "code",
   "execution_count": 10,
   "metadata": {},
   "outputs": [
    {
     "name": "stdout",
     "output_type": "stream",
     "text": [
      "Train set: 3914 images, 92576 annotations\n",
      "Validation set: 969 images, 23144 annotations\n"
     ]
    }
   ],
   "source": [
    "import json\n",
    "import numpy as np\n",
    "from sklearn.model_selection import StratifiedGroupKFold\n",
    "\n",
    "annotation_path = \"/home/work/MyProject/level2-objectdetection-cv-02/dataset/train.json\"\n",
    "\n",
    "with open(annotation_path) as f: \n",
    "    data = json.load(f)\n",
    "\n",
    "var = [(ann['image_id'], ann['category_id']) for ann in data['annotations']]\n",
    "X = np.ones((len(data['annotations']),1))\n",
    "y = np.array([v[1] for v in var])\n",
    "groups = np.array([v[0] for v in var])\n",
    "\n",
    "cv = StratifiedGroupKFold(n_splits=5, shuffle=True, random_state=411)\n",
    "\n",
    "train_json = {\n",
    "    \"images\": [],\n",
    "    \"annotations\": [],\n",
    "    \"categories\": data[\"categories\"]\n",
    "}\n",
    "\n",
    "validation_json = {\n",
    "    \"images\": [],\n",
    "    \"annotations\": [],\n",
    "    \"categories\": data[\"categories\"]\n",
    "}\n",
    "\n",
    "image_ids = set()\n",
    "for fold, (train_idx, val_idx) in enumerate(cv.split(X, y, groups)):\n",
    "    train_groups = set(groups[train_idx])\n",
    "    val_groups = set(groups[val_idx])\n",
    "    \n",
    "    for image in data[\"images\"]:\n",
    "        if image[\"id\"] in train_groups and image[\"id\"] not in image_ids:\n",
    "            train_json[\"images\"].append(image)\n",
    "            image_ids.add(image[\"id\"])\n",
    "        elif image[\"id\"] in val_groups and image[\"id\"] not in image_ids:\n",
    "            validation_json[\"images\"].append(image)\n",
    "            image_ids.add(image[\"id\"])\n",
    "    \n",
    "    for ann in data[\"annotations\"]:\n",
    "        if ann[\"image_id\"] in train_groups:\n",
    "            train_json[\"annotations\"].append(ann)\n",
    "        elif ann[\"image_id\"] in val_groups:\n",
    "            validation_json[\"annotations\"].append(ann)\n",
    "\n",
    "# JSON 형식으로 저장\n",
    "with open('train_split.json', 'w') as f:\n",
    "    json.dump(train_json, f, indent=2)\n",
    "\n",
    "with open('val_split.json', 'w') as f:\n",
    "    json.dump(validation_json, f, indent=2)\n",
    "\n",
    "print(f\"Train set: {len(train_json['images'])} images, {len(train_json['annotations'])} annotations\")\n",
    "print(f\"Validation set: {len(validation_json['images'])} images, {len(validation_json['annotations'])} annotations\")"
   ]
  },
  {
   "cell_type": "code",
   "execution_count": null,
   "metadata": {},
   "outputs": [],
   "source": []
  }
 ],
 "metadata": {
  "kernelspec": {
   "display_name": "Python 3",
   "language": "python",
   "name": "python3"
  },
  "language_info": {
   "codemirror_mode": {
    "name": "ipython",
    "version": 3
   },
   "file_extension": ".py",
   "mimetype": "text/x-python",
   "name": "python",
   "nbconvert_exporter": "python",
   "pygments_lexer": "ipython3",
   "version": "3.10.12"
  }
 },
 "nbformat": 4,
 "nbformat_minor": 2
}
